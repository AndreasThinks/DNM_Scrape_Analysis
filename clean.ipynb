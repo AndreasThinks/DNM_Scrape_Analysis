{
 "cells": [
  {
   "cell_type": "markdown",
   "source": [
    "We'll start by importing, aggregating and cleaning our data.\n"
   ],
   "metadata": {
    "collapsed": false,
    "pycharm": {
     "name": "#%% md\n"
    }
   }
  },
  {
   "cell_type": "code",
   "execution_count": 12,
   "metadata": {
    "collapsed": true
   },
   "outputs": [],
   "source": [
    "import pandas as pd\n",
    "import os\n",
    "import numpy as np\n",
    "from collections import defaultdict\n",
    "\n",
    "list_of_data = (os.listdir(\"data\"))\n",
    "list_of_df = []\n",
    "\n",
    "for file in list_of_data:\n",
    "    month, day_csv = file.split(\"_\")\n",
    "    day, csvname = day_csv.split(\".\")\n",
    "    file = pd.read_csv(\"data/\"+str(file), encoding= \"ISO-8859-1\")\n",
    "    file[\"date\"] = pd.to_datetime(str(day) + \"/\" + str(month) + \"/\" + str(2020), format=\"%d/%B/%Y\")\n",
    "    list_of_df.append(file)\n",
    "\n",
    "all_data = pd.concat(list_of_df)\n",
    "\n",
    "all_data[\"unique_ref\"] = all_data[\"name\"] + all_data[\"description\"] + all_data[\"link-href\"]\n",
    "\n",
    "all_data = all_data.reset_index()"
   ]
  },
  {
   "cell_type": "code",
   "execution_count": 13,
   "outputs": [],
   "source": [
    "#here we slice our seller string (currently aggregating score, sales and name) into 3\n",
    "seller_dets = all_data[\"seller\"].str.split(pat=\"(\", expand=True)\n",
    "all_data[\"seller name\"] = seller_dets[0]\n",
    "all_data[\"seller reviews\"] = seller_dets[1].str.slice(0,-2,1)\n",
    "all_data[\"seller score\"] = seller_dets[2].str.slice(0,-1,1)"
   ],
   "metadata": {
    "collapsed": false,
    "pycharm": {
     "name": "#%%\n"
    }
   }
  },
  {
   "cell_type": "code",
   "execution_count": 14,
   "outputs": [],
   "source": [
    "number = 1\n",
    "list_of_names = all_data[\"seller name\"].unique()\n",
    "name_dict = {}\n",
    "for value in list_of_names:\n",
    "    name_dict[value] = number\n",
    "    number +=1\n",
    "\n",
    "\n",
    "def anon(name):\n",
    "    return name_dict[name]\n",
    "all_data[\"seller name\"] = all_data[\"seller name\"].apply(anon)\n",
    "\n",
    "all_data = all_data.drop(columns= \"seller\")"
   ],
   "metadata": {
    "collapsed": false,
    "pycharm": {
     "name": "#%%\n"
    }
   }
  },
  {
   "cell_type": "code",
   "execution_count": 15,
   "outputs": [
    {
     "data": {
      "text/plain": "   index ï»¿web-scraper-order  \\\n0      0     1587452506-12609   \n1      1     1587452527-12696   \n2      2     1587452650-13126   \n3      3     1587452537-12728   \n4      4     1587452571-12836   \n\n                               web-scraper-start-url  \\\n0  http://paxromanadfudhte.onion/category/1?page=110   \n1  http://paxromanadfudhte.onion/category/1?page=101   \n2   http://paxromanadfudhte.onion/category/1?page=58   \n3   http://paxromanadfudhte.onion/category/1?page=98   \n4   http://paxromanadfudhte.onion/category/1?page=87   \n\n                                                name  \\\n0              Cloned BUY OXYCODONE POWDER(99% PURE)   \n1               Cloned BUY COCAINE POWDER (99% PURE)   \n2  99% Pure 300ug LSD,  220mg ECSTASY, of 84 % Pu...   \n3                        Speed / Amphetamin * 50 g *   \n4   Cloned Order 40pills sobutex 8mg pharmacy grades   \n\n                                         description  \\\n0  This medication is used to help relieve modera...   \n1  Cocaine, also known as coke, is a strong stimu...   \n2  99% Pure 300ug LSD,  220mg ECSTASY, of 84 % Pu...   \n3  Regeln zum Versand wÃ¤rend der CORONA-Kriese: ...   \n4  Hi legends,\\n Great appreciation to everyone w...   \n\n                         price from  to               sold  \\\n0                    20.00 USD  USA  WW  Views: 0\\nSold: 0   \n1     1 gram \\n for  20.00 USD  USA  WW  Views: 0\\nSold: 0   \n2  100 gram \\n for  250.00 USD  USA  WW  Views: 5\\nSold: 0   \n3   50 gram \\n for  206.34 USD   DE  DE  Views: 3\\nSold: 0   \n4                   310.00 USD  USA  WW  Views: 2\\nSold: 0   \n\n                                                link  \\\n0  Escrow \\t\\t\\t\\t\\t\\t\\t\\n\\t\\t\\t\\t\\t\\t\\t\\n\\t\\t\\t\\...   \n1  Escrow \\t\\t\\t\\t\\t\\t\\t\\n\\t\\t\\t\\t\\t\\t\\t\\n\\t\\t\\t\\...   \n2  Escrow \\t\\t\\t\\t\\t\\t\\t\\n\\t\\t\\t\\t\\t\\t\\t\\n\\t\\t\\t\\...   \n3  Escrow \\t\\t\\t\\t\\t\\t\\t\\n\\t\\t\\t\\t\\t\\t\\t\\n\\t\\t\\t\\...   \n4  Escrow \\t\\t\\t\\t\\t\\t\\t\\n\\t\\t\\t\\t\\t\\t\\t\\n\\t\\t\\t\\...   \n\n                                           link-href       date  \\\n0  http://paxromanadfudhte.onion/listing/gV2N451p... 2020-04-21   \n1  http://paxromanadfudhte.onion/listing/Q03B45rX... 2020-04-21   \n2  http://paxromanadfudhte.onion/listing/zJ3AnvBp... 2020-04-21   \n3  http://paxromanadfudhte.onion/listing/gV2NAd1X... 2020-04-21   \n4  http://paxromanadfudhte.onion/listing/lvXmVA62... 2020-04-21   \n\n                                          unique_ref  seller name  \\\n0  Cloned BUY OXYCODONE POWDER(99% PURE)This medi...            1   \n1  Cloned BUY COCAINE POWDER (99% PURE)Cocaine, a...            1   \n2  99% Pure 300ug LSD,  220mg ECSTASY, of 84 % Pu...            2   \n3  Speed / Amphetamin * 50 g *Regeln zum Versand ...            3   \n4  Cloned Order 40pills sobutex 8mg pharmacy grad...            4   \n\n  seller reviews seller score  \n0              4         5.00  \n1              4         5.00  \n2              3         5.00  \n3              0         5.00  \n4              2         5.00  ",
      "text/html": "<div>\n<style scoped>\n    .dataframe tbody tr th:only-of-type {\n        vertical-align: middle;\n    }\n\n    .dataframe tbody tr th {\n        vertical-align: top;\n    }\n\n    .dataframe thead th {\n        text-align: right;\n    }\n</style>\n<table border=\"1\" class=\"dataframe\">\n  <thead>\n    <tr style=\"text-align: right;\">\n      <th></th>\n      <th>index</th>\n      <th>ï»¿web-scraper-order</th>\n      <th>web-scraper-start-url</th>\n      <th>name</th>\n      <th>description</th>\n      <th>price</th>\n      <th>from</th>\n      <th>to</th>\n      <th>sold</th>\n      <th>link</th>\n      <th>link-href</th>\n      <th>date</th>\n      <th>unique_ref</th>\n      <th>seller name</th>\n      <th>seller reviews</th>\n      <th>seller score</th>\n    </tr>\n  </thead>\n  <tbody>\n    <tr>\n      <th>0</th>\n      <td>0</td>\n      <td>1587452506-12609</td>\n      <td>http://paxromanadfudhte.onion/category/1?page=110</td>\n      <td>Cloned BUY OXYCODONE POWDER(99% PURE)</td>\n      <td>This medication is used to help relieve modera...</td>\n      <td>20.00 USD</td>\n      <td>USA</td>\n      <td>WW</td>\n      <td>Views: 0\\nSold: 0</td>\n      <td>Escrow \\t\\t\\t\\t\\t\\t\\t\\n\\t\\t\\t\\t\\t\\t\\t\\n\\t\\t\\t\\...</td>\n      <td>http://paxromanadfudhte.onion/listing/gV2N451p...</td>\n      <td>2020-04-21</td>\n      <td>Cloned BUY OXYCODONE POWDER(99% PURE)This medi...</td>\n      <td>1</td>\n      <td>4</td>\n      <td>5.00</td>\n    </tr>\n    <tr>\n      <th>1</th>\n      <td>1</td>\n      <td>1587452527-12696</td>\n      <td>http://paxromanadfudhte.onion/category/1?page=101</td>\n      <td>Cloned BUY COCAINE POWDER (99% PURE)</td>\n      <td>Cocaine, also known as coke, is a strong stimu...</td>\n      <td>1 gram \\n for  20.00 USD</td>\n      <td>USA</td>\n      <td>WW</td>\n      <td>Views: 0\\nSold: 0</td>\n      <td>Escrow \\t\\t\\t\\t\\t\\t\\t\\n\\t\\t\\t\\t\\t\\t\\t\\n\\t\\t\\t\\...</td>\n      <td>http://paxromanadfudhte.onion/listing/Q03B45rX...</td>\n      <td>2020-04-21</td>\n      <td>Cloned BUY COCAINE POWDER (99% PURE)Cocaine, a...</td>\n      <td>1</td>\n      <td>4</td>\n      <td>5.00</td>\n    </tr>\n    <tr>\n      <th>2</th>\n      <td>2</td>\n      <td>1587452650-13126</td>\n      <td>http://paxromanadfudhte.onion/category/1?page=58</td>\n      <td>99% Pure 300ug LSD,  220mg ECSTASY, of 84 % Pu...</td>\n      <td>99% Pure 300ug LSD,  220mg ECSTASY, of 84 % Pu...</td>\n      <td>100 gram \\n for  250.00 USD</td>\n      <td>USA</td>\n      <td>WW</td>\n      <td>Views: 5\\nSold: 0</td>\n      <td>Escrow \\t\\t\\t\\t\\t\\t\\t\\n\\t\\t\\t\\t\\t\\t\\t\\n\\t\\t\\t\\...</td>\n      <td>http://paxromanadfudhte.onion/listing/zJ3AnvBp...</td>\n      <td>2020-04-21</td>\n      <td>99% Pure 300ug LSD,  220mg ECSTASY, of 84 % Pu...</td>\n      <td>2</td>\n      <td>3</td>\n      <td>5.00</td>\n    </tr>\n    <tr>\n      <th>3</th>\n      <td>3</td>\n      <td>1587452537-12728</td>\n      <td>http://paxromanadfudhte.onion/category/1?page=98</td>\n      <td>Speed / Amphetamin * 50 g *</td>\n      <td>Regeln zum Versand wÃ¤rend der CORONA-Kriese: ...</td>\n      <td>50 gram \\n for  206.34 USD</td>\n      <td>DE</td>\n      <td>DE</td>\n      <td>Views: 3\\nSold: 0</td>\n      <td>Escrow \\t\\t\\t\\t\\t\\t\\t\\n\\t\\t\\t\\t\\t\\t\\t\\n\\t\\t\\t\\...</td>\n      <td>http://paxromanadfudhte.onion/listing/gV2NAd1X...</td>\n      <td>2020-04-21</td>\n      <td>Speed / Amphetamin * 50 g *Regeln zum Versand ...</td>\n      <td>3</td>\n      <td>0</td>\n      <td>5.00</td>\n    </tr>\n    <tr>\n      <th>4</th>\n      <td>4</td>\n      <td>1587452571-12836</td>\n      <td>http://paxromanadfudhte.onion/category/1?page=87</td>\n      <td>Cloned Order 40pills sobutex 8mg pharmacy grades</td>\n      <td>Hi legends,\\n Great appreciation to everyone w...</td>\n      <td>310.00 USD</td>\n      <td>USA</td>\n      <td>WW</td>\n      <td>Views: 2\\nSold: 0</td>\n      <td>Escrow \\t\\t\\t\\t\\t\\t\\t\\n\\t\\t\\t\\t\\t\\t\\t\\n\\t\\t\\t\\...</td>\n      <td>http://paxromanadfudhte.onion/listing/lvXmVA62...</td>\n      <td>2020-04-21</td>\n      <td>Cloned Order 40pills sobutex 8mg pharmacy grad...</td>\n      <td>4</td>\n      <td>2</td>\n      <td>5.00</td>\n    </tr>\n  </tbody>\n</table>\n</div>"
     },
     "execution_count": 15,
     "metadata": {},
     "output_type": "execute_result"
    }
   ],
   "source": [
    "all_data.head()"
   ],
   "metadata": {
    "collapsed": false,
    "pycharm": {
     "name": "#%%\n"
    }
   }
  },
  {
   "cell_type": "markdown",
   "source": [
    "let's have a look at our data"
   ],
   "metadata": {
    "collapsed": false
   }
  },
  {
   "cell_type": "code",
   "execution_count": 16,
   "outputs": [
    {
     "data": {
      "text/plain": "   index ï»¿web-scraper-order  \\\n0      0     1587452506-12609   \n1      1     1587452527-12696   \n2      2     1587452650-13126   \n3      3     1587452537-12728   \n4      4     1587452571-12836   \n\n                               web-scraper-start-url  \\\n0  http://paxromanadfudhte.onion/category/1?page=110   \n1  http://paxromanadfudhte.onion/category/1?page=101   \n2   http://paxromanadfudhte.onion/category/1?page=58   \n3   http://paxromanadfudhte.onion/category/1?page=98   \n4   http://paxromanadfudhte.onion/category/1?page=87   \n\n                                                name  \\\n0              Cloned BUY OXYCODONE POWDER(99% PURE)   \n1               Cloned BUY COCAINE POWDER (99% PURE)   \n2  99% Pure 300ug LSD,  220mg ECSTASY, of 84 % Pu...   \n3                        Speed / Amphetamin * 50 g *   \n4   Cloned Order 40pills sobutex 8mg pharmacy grades   \n\n                                         description  \\\n0  This medication is used to help relieve modera...   \n1  Cocaine, also known as coke, is a strong stimu...   \n2  99% Pure 300ug LSD,  220mg ECSTASY, of 84 % Pu...   \n3  Regeln zum Versand wÃ¤rend der CORONA-Kriese: ...   \n4  Hi legends,\\n Great appreciation to everyone w...   \n\n                         price from  to               sold  \\\n0                    20.00 USD  USA  WW  Views: 0\\nSold: 0   \n1     1 gram \\n for  20.00 USD  USA  WW  Views: 0\\nSold: 0   \n2  100 gram \\n for  250.00 USD  USA  WW  Views: 5\\nSold: 0   \n3   50 gram \\n for  206.34 USD   DE  DE  Views: 3\\nSold: 0   \n4                   310.00 USD  USA  WW  Views: 2\\nSold: 0   \n\n                                                link  \\\n0  Escrow \\t\\t\\t\\t\\t\\t\\t\\n\\t\\t\\t\\t\\t\\t\\t\\n\\t\\t\\t\\...   \n1  Escrow \\t\\t\\t\\t\\t\\t\\t\\n\\t\\t\\t\\t\\t\\t\\t\\n\\t\\t\\t\\...   \n2  Escrow \\t\\t\\t\\t\\t\\t\\t\\n\\t\\t\\t\\t\\t\\t\\t\\n\\t\\t\\t\\...   \n3  Escrow \\t\\t\\t\\t\\t\\t\\t\\n\\t\\t\\t\\t\\t\\t\\t\\n\\t\\t\\t\\...   \n4  Escrow \\t\\t\\t\\t\\t\\t\\t\\n\\t\\t\\t\\t\\t\\t\\t\\n\\t\\t\\t\\...   \n\n                                           link-href       date  \\\n0  http://paxromanadfudhte.onion/listing/gV2N451p... 2020-04-21   \n1  http://paxromanadfudhte.onion/listing/Q03B45rX... 2020-04-21   \n2  http://paxromanadfudhte.onion/listing/zJ3AnvBp... 2020-04-21   \n3  http://paxromanadfudhte.onion/listing/gV2NAd1X... 2020-04-21   \n4  http://paxromanadfudhte.onion/listing/lvXmVA62... 2020-04-21   \n\n                                          unique_ref  seller name  \\\n0  Cloned BUY OXYCODONE POWDER(99% PURE)This medi...            1   \n1  Cloned BUY COCAINE POWDER (99% PURE)Cocaine, a...            1   \n2  99% Pure 300ug LSD,  220mg ECSTASY, of 84 % Pu...            2   \n3  Speed / Amphetamin * 50 g *Regeln zum Versand ...            3   \n4  Cloned Order 40pills sobutex 8mg pharmacy grad...            4   \n\n  seller reviews seller score  \n0              4         5.00  \n1              4         5.00  \n2              3         5.00  \n3              0         5.00  \n4              2         5.00  ",
      "text/html": "<div>\n<style scoped>\n    .dataframe tbody tr th:only-of-type {\n        vertical-align: middle;\n    }\n\n    .dataframe tbody tr th {\n        vertical-align: top;\n    }\n\n    .dataframe thead th {\n        text-align: right;\n    }\n</style>\n<table border=\"1\" class=\"dataframe\">\n  <thead>\n    <tr style=\"text-align: right;\">\n      <th></th>\n      <th>index</th>\n      <th>ï»¿web-scraper-order</th>\n      <th>web-scraper-start-url</th>\n      <th>name</th>\n      <th>description</th>\n      <th>price</th>\n      <th>from</th>\n      <th>to</th>\n      <th>sold</th>\n      <th>link</th>\n      <th>link-href</th>\n      <th>date</th>\n      <th>unique_ref</th>\n      <th>seller name</th>\n      <th>seller reviews</th>\n      <th>seller score</th>\n    </tr>\n  </thead>\n  <tbody>\n    <tr>\n      <th>0</th>\n      <td>0</td>\n      <td>1587452506-12609</td>\n      <td>http://paxromanadfudhte.onion/category/1?page=110</td>\n      <td>Cloned BUY OXYCODONE POWDER(99% PURE)</td>\n      <td>This medication is used to help relieve modera...</td>\n      <td>20.00 USD</td>\n      <td>USA</td>\n      <td>WW</td>\n      <td>Views: 0\\nSold: 0</td>\n      <td>Escrow \\t\\t\\t\\t\\t\\t\\t\\n\\t\\t\\t\\t\\t\\t\\t\\n\\t\\t\\t\\...</td>\n      <td>http://paxromanadfudhte.onion/listing/gV2N451p...</td>\n      <td>2020-04-21</td>\n      <td>Cloned BUY OXYCODONE POWDER(99% PURE)This medi...</td>\n      <td>1</td>\n      <td>4</td>\n      <td>5.00</td>\n    </tr>\n    <tr>\n      <th>1</th>\n      <td>1</td>\n      <td>1587452527-12696</td>\n      <td>http://paxromanadfudhte.onion/category/1?page=101</td>\n      <td>Cloned BUY COCAINE POWDER (99% PURE)</td>\n      <td>Cocaine, also known as coke, is a strong stimu...</td>\n      <td>1 gram \\n for  20.00 USD</td>\n      <td>USA</td>\n      <td>WW</td>\n      <td>Views: 0\\nSold: 0</td>\n      <td>Escrow \\t\\t\\t\\t\\t\\t\\t\\n\\t\\t\\t\\t\\t\\t\\t\\n\\t\\t\\t\\...</td>\n      <td>http://paxromanadfudhte.onion/listing/Q03B45rX...</td>\n      <td>2020-04-21</td>\n      <td>Cloned BUY COCAINE POWDER (99% PURE)Cocaine, a...</td>\n      <td>1</td>\n      <td>4</td>\n      <td>5.00</td>\n    </tr>\n    <tr>\n      <th>2</th>\n      <td>2</td>\n      <td>1587452650-13126</td>\n      <td>http://paxromanadfudhte.onion/category/1?page=58</td>\n      <td>99% Pure 300ug LSD,  220mg ECSTASY, of 84 % Pu...</td>\n      <td>99% Pure 300ug LSD,  220mg ECSTASY, of 84 % Pu...</td>\n      <td>100 gram \\n for  250.00 USD</td>\n      <td>USA</td>\n      <td>WW</td>\n      <td>Views: 5\\nSold: 0</td>\n      <td>Escrow \\t\\t\\t\\t\\t\\t\\t\\n\\t\\t\\t\\t\\t\\t\\t\\n\\t\\t\\t\\...</td>\n      <td>http://paxromanadfudhte.onion/listing/zJ3AnvBp...</td>\n      <td>2020-04-21</td>\n      <td>99% Pure 300ug LSD,  220mg ECSTASY, of 84 % Pu...</td>\n      <td>2</td>\n      <td>3</td>\n      <td>5.00</td>\n    </tr>\n    <tr>\n      <th>3</th>\n      <td>3</td>\n      <td>1587452537-12728</td>\n      <td>http://paxromanadfudhte.onion/category/1?page=98</td>\n      <td>Speed / Amphetamin * 50 g *</td>\n      <td>Regeln zum Versand wÃ¤rend der CORONA-Kriese: ...</td>\n      <td>50 gram \\n for  206.34 USD</td>\n      <td>DE</td>\n      <td>DE</td>\n      <td>Views: 3\\nSold: 0</td>\n      <td>Escrow \\t\\t\\t\\t\\t\\t\\t\\n\\t\\t\\t\\t\\t\\t\\t\\n\\t\\t\\t\\...</td>\n      <td>http://paxromanadfudhte.onion/listing/gV2NAd1X...</td>\n      <td>2020-04-21</td>\n      <td>Speed / Amphetamin * 50 g *Regeln zum Versand ...</td>\n      <td>3</td>\n      <td>0</td>\n      <td>5.00</td>\n    </tr>\n    <tr>\n      <th>4</th>\n      <td>4</td>\n      <td>1587452571-12836</td>\n      <td>http://paxromanadfudhte.onion/category/1?page=87</td>\n      <td>Cloned Order 40pills sobutex 8mg pharmacy grades</td>\n      <td>Hi legends,\\n Great appreciation to everyone w...</td>\n      <td>310.00 USD</td>\n      <td>USA</td>\n      <td>WW</td>\n      <td>Views: 2\\nSold: 0</td>\n      <td>Escrow \\t\\t\\t\\t\\t\\t\\t\\n\\t\\t\\t\\t\\t\\t\\t\\n\\t\\t\\t\\...</td>\n      <td>http://paxromanadfudhte.onion/listing/lvXmVA62...</td>\n      <td>2020-04-21</td>\n      <td>Cloned Order 40pills sobutex 8mg pharmacy grad...</td>\n      <td>4</td>\n      <td>2</td>\n      <td>5.00</td>\n    </tr>\n  </tbody>\n</table>\n</div>"
     },
     "execution_count": 16,
     "metadata": {},
     "output_type": "execute_result"
    }
   ],
   "source": [
    "all_data.head()"
   ],
   "metadata": {
    "collapsed": false,
    "pycharm": {
     "name": "#%%\n"
    }
   }
  },
  {
   "cell_type": "code",
   "execution_count": 17,
   "outputs": [
    {
     "name": "stdout",
     "output_type": "stream",
     "text": [
      "<class 'pandas.core.frame.DataFrame'>\n",
      "RangeIndex: 10930 entries, 0 to 10929\n",
      "Data columns (total 16 columns):\n",
      " #   Column                 Non-Null Count  Dtype         \n",
      "---  ------                 --------------  -----         \n",
      " 0   index                  10930 non-null  int64         \n",
      " 1   ï»¿web-scraper-order   10930 non-null  object        \n",
      " 2   web-scraper-start-url  10930 non-null  object        \n",
      " 3   name                   10930 non-null  object        \n",
      " 4   description            10930 non-null  object        \n",
      " 5   price                  10930 non-null  object        \n",
      " 6   from                   10930 non-null  object        \n",
      " 7   to                     10930 non-null  object        \n",
      " 8   sold                   10930 non-null  object        \n",
      " 9   link                   10930 non-null  object        \n",
      " 10  link-href              10930 non-null  object        \n",
      " 11  date                   10930 non-null  datetime64[ns]\n",
      " 12  unique_ref             10930 non-null  object        \n",
      " 13  seller name            10930 non-null  int64         \n",
      " 14  seller reviews         10930 non-null  object        \n",
      " 15  seller score           10930 non-null  object        \n",
      "dtypes: datetime64[ns](1), int64(2), object(13)\n",
      "memory usage: 1.3+ MB\n"
     ]
    }
   ],
   "source": [
    "all_data.info()\n"
   ],
   "metadata": {
    "collapsed": false,
    "pycharm": {
     "name": "#%%\n"
    }
   }
  },
  {
   "cell_type": "markdown",
   "source": [
    "Cleaning up the price and volume columns.  This is hugely messy but I had real weird issues with indexing.  No idea what happened."
   ],
   "metadata": {
    "collapsed": false
   }
  },
  {
   "cell_type": "code",
   "execution_count": 18,
   "outputs": [],
   "source": [
    "for index, row in all_data.iterrows():\n",
    "    Price = np.NaN\n",
    "    Volume = np.NaN\n",
    "    views, sold = row[\"sold\"].split(\"\\n\")\n",
    "    views = views.split(\":\")[1]\n",
    "    sold = sold.split(\":\")[1]\n",
    "    all_data.at[index, \"Extracted views\"] = views\n",
    "    all_data.at[index, \"Extracted sold\"] = sold\n",
    "    price_listed = row[\"price\"]\n",
    "    all_data.at[index, \"price listed\"] = price_listed\n",
    "    if \"for\" in row[\"price\"]:\n",
    "        Volume, Price_Per_Unit  = row[\"price\"].split(\" for  \")\n",
    "        Volume = Volume.replace(\" \\n\", \"\")\n",
    "        vol, unit_vol = Volume.split(\" \")\n",
    "        PPU = Price_Per_Unit.split(\" \")\n",
    "        Price = PPU[0]\n",
    "        Currency = PPU[1]\n",
    "        all_data.at[index, \"price\"] = str(Price)\n",
    "        all_data.at[index, \"Volume\"] = vol\n",
    "        all_data.at[index, \"Unit of Volume\"] = unit_vol\n",
    "        all_data.at[index, \"Currency\"] = Currency\n",
    "    elif not(\"for\" in row[\"price\"]):\n",
    "        test = row[\"price\"].split(\" \")\n",
    "        Price = test[0]\n",
    "        Currency = test[1]\n",
    "        all_data.at[index, \"price\"] = str(Price)\n",
    "        all_data.at[index, \"Currency\"] = Currency\n"
   ],
   "metadata": {
    "collapsed": false,
    "pycharm": {
     "name": "#%%\n"
    }
   }
  },
  {
   "cell_type": "code",
   "execution_count": 19,
   "outputs": [],
   "source": [
    "all_data[\"Price Per Unit\"] = 0\n",
    "all_data[\"price\"] = all_data[\"price\"].astype(float)\n",
    "all_data[\"Volume\"] = all_data[\"Volume\"].astype(float)\n",
    "all_data.loc[all_data[\"Volume\"].isna(), \"Price Per Unit\"] = all_data[\"price\"]\n",
    "all_data.loc[all_data[\"Volume\"].notna(), \"Price Per Unit\"] = all_data[\"price\"]/all_data[\"Volume\"]\n",
    "\n",
    "#all_data[\"price\"]\n",
    "    "
   ],
   "metadata": {
    "collapsed": false,
    "pycharm": {
     "name": "#%%\n"
    }
   }
  },
  {
   "cell_type": "code",
   "execution_count": 20,
   "outputs": [
    {
     "data": {
      "text/plain": "   index ï»¿web-scraper-order  \\\n0      0     1587452506-12609   \n1      1     1587452527-12696   \n2      2     1587452650-13126   \n3      3     1587452537-12728   \n4      4     1587452571-12836   \n\n                               web-scraper-start-url  \\\n0  http://paxromanadfudhte.onion/category/1?page=110   \n1  http://paxromanadfudhte.onion/category/1?page=101   \n2   http://paxromanadfudhte.onion/category/1?page=58   \n3   http://paxromanadfudhte.onion/category/1?page=98   \n4   http://paxromanadfudhte.onion/category/1?page=87   \n\n                                                name  \\\n0              Cloned BUY OXYCODONE POWDER(99% PURE)   \n1               Cloned BUY COCAINE POWDER (99% PURE)   \n2  99% Pure 300ug LSD,  220mg ECSTASY, of 84 % Pu...   \n3                        Speed / Amphetamin * 50 g *   \n4   Cloned Order 40pills sobutex 8mg pharmacy grades   \n\n                                         description   price from  to  \\\n0  This medication is used to help relieve modera...   20.00  USA  WW   \n1  Cocaine, also known as coke, is a strong stimu...   20.00  USA  WW   \n2  99% Pure 300ug LSD,  220mg ECSTASY, of 84 % Pu...  250.00  USA  WW   \n3  Regeln zum Versand wÃ¤rend der CORONA-Kriese: ...  206.34   DE  DE   \n4  Hi legends,\\n Great appreciation to everyone w...  310.00  USA  WW   \n\n                sold                                               link  ...  \\\n0  Views: 0\\nSold: 0  Escrow \\t\\t\\t\\t\\t\\t\\t\\n\\t\\t\\t\\t\\t\\t\\t\\n\\t\\t\\t\\...  ...   \n1  Views: 0\\nSold: 0  Escrow \\t\\t\\t\\t\\t\\t\\t\\n\\t\\t\\t\\t\\t\\t\\t\\n\\t\\t\\t\\...  ...   \n2  Views: 5\\nSold: 0  Escrow \\t\\t\\t\\t\\t\\t\\t\\n\\t\\t\\t\\t\\t\\t\\t\\n\\t\\t\\t\\...  ...   \n3  Views: 3\\nSold: 0  Escrow \\t\\t\\t\\t\\t\\t\\t\\n\\t\\t\\t\\t\\t\\t\\t\\n\\t\\t\\t\\...  ...   \n4  Views: 2\\nSold: 0  Escrow \\t\\t\\t\\t\\t\\t\\t\\n\\t\\t\\t\\t\\t\\t\\t\\n\\t\\t\\t\\...  ...   \n\n  seller name seller reviews seller score  Extracted views Extracted sold  \\\n0           1              4         5.00                0              0   \n1           1              4         5.00                0              0   \n2           2              3         5.00                5              0   \n3           3              0         5.00                3              0   \n4           4              2         5.00                2              0   \n\n                  price listed Currency Volume Unit of Volume Price Per Unit  \n0                    20.00 USD      USD    NaN            NaN        20.0000  \n1     1 gram \\n for  20.00 USD      USD    1.0           gram        20.0000  \n2  100 gram \\n for  250.00 USD      USD  100.0           gram         2.5000  \n3   50 gram \\n for  206.34 USD      USD   50.0           gram         4.1268  \n4                   310.00 USD      USD    NaN            NaN       310.0000  \n\n[5 rows x 23 columns]",
      "text/html": "<div>\n<style scoped>\n    .dataframe tbody tr th:only-of-type {\n        vertical-align: middle;\n    }\n\n    .dataframe tbody tr th {\n        vertical-align: top;\n    }\n\n    .dataframe thead th {\n        text-align: right;\n    }\n</style>\n<table border=\"1\" class=\"dataframe\">\n  <thead>\n    <tr style=\"text-align: right;\">\n      <th></th>\n      <th>index</th>\n      <th>ï»¿web-scraper-order</th>\n      <th>web-scraper-start-url</th>\n      <th>name</th>\n      <th>description</th>\n      <th>price</th>\n      <th>from</th>\n      <th>to</th>\n      <th>sold</th>\n      <th>link</th>\n      <th>...</th>\n      <th>seller name</th>\n      <th>seller reviews</th>\n      <th>seller score</th>\n      <th>Extracted views</th>\n      <th>Extracted sold</th>\n      <th>price listed</th>\n      <th>Currency</th>\n      <th>Volume</th>\n      <th>Unit of Volume</th>\n      <th>Price Per Unit</th>\n    </tr>\n  </thead>\n  <tbody>\n    <tr>\n      <th>0</th>\n      <td>0</td>\n      <td>1587452506-12609</td>\n      <td>http://paxromanadfudhte.onion/category/1?page=110</td>\n      <td>Cloned BUY OXYCODONE POWDER(99% PURE)</td>\n      <td>This medication is used to help relieve modera...</td>\n      <td>20.00</td>\n      <td>USA</td>\n      <td>WW</td>\n      <td>Views: 0\\nSold: 0</td>\n      <td>Escrow \\t\\t\\t\\t\\t\\t\\t\\n\\t\\t\\t\\t\\t\\t\\t\\n\\t\\t\\t\\...</td>\n      <td>...</td>\n      <td>1</td>\n      <td>4</td>\n      <td>5.00</td>\n      <td>0</td>\n      <td>0</td>\n      <td>20.00 USD</td>\n      <td>USD</td>\n      <td>NaN</td>\n      <td>NaN</td>\n      <td>20.0000</td>\n    </tr>\n    <tr>\n      <th>1</th>\n      <td>1</td>\n      <td>1587452527-12696</td>\n      <td>http://paxromanadfudhte.onion/category/1?page=101</td>\n      <td>Cloned BUY COCAINE POWDER (99% PURE)</td>\n      <td>Cocaine, also known as coke, is a strong stimu...</td>\n      <td>20.00</td>\n      <td>USA</td>\n      <td>WW</td>\n      <td>Views: 0\\nSold: 0</td>\n      <td>Escrow \\t\\t\\t\\t\\t\\t\\t\\n\\t\\t\\t\\t\\t\\t\\t\\n\\t\\t\\t\\...</td>\n      <td>...</td>\n      <td>1</td>\n      <td>4</td>\n      <td>5.00</td>\n      <td>0</td>\n      <td>0</td>\n      <td>1 gram \\n for  20.00 USD</td>\n      <td>USD</td>\n      <td>1.0</td>\n      <td>gram</td>\n      <td>20.0000</td>\n    </tr>\n    <tr>\n      <th>2</th>\n      <td>2</td>\n      <td>1587452650-13126</td>\n      <td>http://paxromanadfudhte.onion/category/1?page=58</td>\n      <td>99% Pure 300ug LSD,  220mg ECSTASY, of 84 % Pu...</td>\n      <td>99% Pure 300ug LSD,  220mg ECSTASY, of 84 % Pu...</td>\n      <td>250.00</td>\n      <td>USA</td>\n      <td>WW</td>\n      <td>Views: 5\\nSold: 0</td>\n      <td>Escrow \\t\\t\\t\\t\\t\\t\\t\\n\\t\\t\\t\\t\\t\\t\\t\\n\\t\\t\\t\\...</td>\n      <td>...</td>\n      <td>2</td>\n      <td>3</td>\n      <td>5.00</td>\n      <td>5</td>\n      <td>0</td>\n      <td>100 gram \\n for  250.00 USD</td>\n      <td>USD</td>\n      <td>100.0</td>\n      <td>gram</td>\n      <td>2.5000</td>\n    </tr>\n    <tr>\n      <th>3</th>\n      <td>3</td>\n      <td>1587452537-12728</td>\n      <td>http://paxromanadfudhte.onion/category/1?page=98</td>\n      <td>Speed / Amphetamin * 50 g *</td>\n      <td>Regeln zum Versand wÃ¤rend der CORONA-Kriese: ...</td>\n      <td>206.34</td>\n      <td>DE</td>\n      <td>DE</td>\n      <td>Views: 3\\nSold: 0</td>\n      <td>Escrow \\t\\t\\t\\t\\t\\t\\t\\n\\t\\t\\t\\t\\t\\t\\t\\n\\t\\t\\t\\...</td>\n      <td>...</td>\n      <td>3</td>\n      <td>0</td>\n      <td>5.00</td>\n      <td>3</td>\n      <td>0</td>\n      <td>50 gram \\n for  206.34 USD</td>\n      <td>USD</td>\n      <td>50.0</td>\n      <td>gram</td>\n      <td>4.1268</td>\n    </tr>\n    <tr>\n      <th>4</th>\n      <td>4</td>\n      <td>1587452571-12836</td>\n      <td>http://paxromanadfudhte.onion/category/1?page=87</td>\n      <td>Cloned Order 40pills sobutex 8mg pharmacy grades</td>\n      <td>Hi legends,\\n Great appreciation to everyone w...</td>\n      <td>310.00</td>\n      <td>USA</td>\n      <td>WW</td>\n      <td>Views: 2\\nSold: 0</td>\n      <td>Escrow \\t\\t\\t\\t\\t\\t\\t\\n\\t\\t\\t\\t\\t\\t\\t\\n\\t\\t\\t\\...</td>\n      <td>...</td>\n      <td>4</td>\n      <td>2</td>\n      <td>5.00</td>\n      <td>2</td>\n      <td>0</td>\n      <td>310.00 USD</td>\n      <td>USD</td>\n      <td>NaN</td>\n      <td>NaN</td>\n      <td>310.0000</td>\n    </tr>\n  </tbody>\n</table>\n<p>5 rows × 23 columns</p>\n</div>"
     },
     "execution_count": 20,
     "metadata": {},
     "output_type": "execute_result"
    }
   ],
   "source": [
    "all_data.head()   "
   ],
   "metadata": {
    "collapsed": false,
    "pycharm": {
     "name": "#%%\n"
    }
   }
  },
  {
   "cell_type": "markdown",
   "source": [
    "Getting rid of duplicates"
   ],
   "metadata": {
    "collapsed": false
   }
  },
  {
   "cell_type": "code",
   "execution_count": 21,
   "outputs": [
    {
     "data": {
      "text/plain": "    index ï»¿web-scraper-order  \\\n0       0     1587452506-12609   \n1       1     1587452527-12696   \n6    2291      1587812135-1850   \n11   1727      1587811688-1296   \n16   1334      1587811830-1493   \n\n                                web-scraper-start-url  \\\n0   http://paxromanadfudhte.onion/category/1?page=110   \n1   http://paxromanadfudhte.onion/category/1?page=101   \n6    http://paxromanadfudhte.onion/category/1?page=78   \n11  http://paxromanadfudhte.onion/category/1?page=134   \n16  http://paxromanadfudhte.onion/category/1?page=114   \n\n                                                 name  \\\n0               Cloned BUY OXYCODONE POWDER(99% PURE)   \n1                Cloned BUY COCAINE POWDER (99% PURE)   \n6   99% Pure 300ug LSD,  220mg ECSTASY, of 84 % Pu...   \n11                        Speed / Amphetamin * 50 g *   \n16   Cloned Order 40pills sobutex 8mg pharmacy grades   \n\n                                          description  price from  to  \\\n0   This medication is used to help relieve modera...   20.0  USA  WW   \n1   Cocaine, also known as coke, is a strong stimu...   20.0  USA  WW   \n6   99% Pure 300ug LSD,  220mg ECSTASY, of 84 % Pu...  250.0  USA  WW   \n11  Regeln zum Versand wÃ¤rend der CORONA-Kriese: ...  205.2   DE  DE   \n16  Hi legends,\\n Great appreciation to everyone w...  310.0  USA  WW   \n\n                  sold                                               link  \\\n0    Views: 0\\nSold: 0  Escrow \\t\\t\\t\\t\\t\\t\\t\\n\\t\\t\\t\\t\\t\\t\\t\\n\\t\\t\\t\\...   \n1    Views: 0\\nSold: 0  Escrow \\t\\t\\t\\t\\t\\t\\t\\n\\t\\t\\t\\t\\t\\t\\t\\n\\t\\t\\t\\...   \n6   Views: 12\\nSold: 0  Escrow \\t\\t\\t\\t\\t\\t\\t\\n\\t\\t\\t\\t\\t\\t\\t\\n\\t\\t\\t\\...   \n11  Views: 11\\nSold: 0  Escrow \\t\\t\\t\\t\\t\\t\\t\\n\\t\\t\\t\\t\\t\\t\\t\\n\\t\\t\\t\\...   \n16  Views: 12\\nSold: 0  Escrow \\t\\t\\t\\t\\t\\t\\t\\n\\t\\t\\t\\t\\t\\t\\t\\n\\t\\t\\t\\...   \n\n    ... seller reviews seller score Extracted views  Extracted sold  \\\n0   ...              4         5.00               0               0   \n1   ...              4         5.00               0               0   \n6   ...              3         5.00              12               0   \n11  ...              5         5.00              11               0   \n16  ...              3         5.00              12               0   \n\n                   price listed Currency Volume Unit of Volume Price Per Unit  \\\n0                     20.00 USD      USD    NaN            NaN         20.000   \n1      1 gram \\n for  20.00 USD      USD    1.0           gram         20.000   \n6   100 gram \\n for  250.00 USD      USD  100.0           gram          2.500   \n11   50 gram \\n for  205.20 USD      USD   50.0           gram          4.104   \n16                   310.00 USD      USD    NaN            NaN        310.000   \n\n   Days Run  \n0         1  \n1         1  \n6         5  \n11        5  \n16        5  \n\n[5 rows x 24 columns]",
      "text/html": "<div>\n<style scoped>\n    .dataframe tbody tr th:only-of-type {\n        vertical-align: middle;\n    }\n\n    .dataframe tbody tr th {\n        vertical-align: top;\n    }\n\n    .dataframe thead th {\n        text-align: right;\n    }\n</style>\n<table border=\"1\" class=\"dataframe\">\n  <thead>\n    <tr style=\"text-align: right;\">\n      <th></th>\n      <th>index</th>\n      <th>ï»¿web-scraper-order</th>\n      <th>web-scraper-start-url</th>\n      <th>name</th>\n      <th>description</th>\n      <th>price</th>\n      <th>from</th>\n      <th>to</th>\n      <th>sold</th>\n      <th>link</th>\n      <th>...</th>\n      <th>seller reviews</th>\n      <th>seller score</th>\n      <th>Extracted views</th>\n      <th>Extracted sold</th>\n      <th>price listed</th>\n      <th>Currency</th>\n      <th>Volume</th>\n      <th>Unit of Volume</th>\n      <th>Price Per Unit</th>\n      <th>Days Run</th>\n    </tr>\n  </thead>\n  <tbody>\n    <tr>\n      <th>0</th>\n      <td>0</td>\n      <td>1587452506-12609</td>\n      <td>http://paxromanadfudhte.onion/category/1?page=110</td>\n      <td>Cloned BUY OXYCODONE POWDER(99% PURE)</td>\n      <td>This medication is used to help relieve modera...</td>\n      <td>20.0</td>\n      <td>USA</td>\n      <td>WW</td>\n      <td>Views: 0\\nSold: 0</td>\n      <td>Escrow \\t\\t\\t\\t\\t\\t\\t\\n\\t\\t\\t\\t\\t\\t\\t\\n\\t\\t\\t\\...</td>\n      <td>...</td>\n      <td>4</td>\n      <td>5.00</td>\n      <td>0</td>\n      <td>0</td>\n      <td>20.00 USD</td>\n      <td>USD</td>\n      <td>NaN</td>\n      <td>NaN</td>\n      <td>20.000</td>\n      <td>1</td>\n    </tr>\n    <tr>\n      <th>1</th>\n      <td>1</td>\n      <td>1587452527-12696</td>\n      <td>http://paxromanadfudhte.onion/category/1?page=101</td>\n      <td>Cloned BUY COCAINE POWDER (99% PURE)</td>\n      <td>Cocaine, also known as coke, is a strong stimu...</td>\n      <td>20.0</td>\n      <td>USA</td>\n      <td>WW</td>\n      <td>Views: 0\\nSold: 0</td>\n      <td>Escrow \\t\\t\\t\\t\\t\\t\\t\\n\\t\\t\\t\\t\\t\\t\\t\\n\\t\\t\\t\\...</td>\n      <td>...</td>\n      <td>4</td>\n      <td>5.00</td>\n      <td>0</td>\n      <td>0</td>\n      <td>1 gram \\n for  20.00 USD</td>\n      <td>USD</td>\n      <td>1.0</td>\n      <td>gram</td>\n      <td>20.000</td>\n      <td>1</td>\n    </tr>\n    <tr>\n      <th>6</th>\n      <td>2291</td>\n      <td>1587812135-1850</td>\n      <td>http://paxromanadfudhte.onion/category/1?page=78</td>\n      <td>99% Pure 300ug LSD,  220mg ECSTASY, of 84 % Pu...</td>\n      <td>99% Pure 300ug LSD,  220mg ECSTASY, of 84 % Pu...</td>\n      <td>250.0</td>\n      <td>USA</td>\n      <td>WW</td>\n      <td>Views: 12\\nSold: 0</td>\n      <td>Escrow \\t\\t\\t\\t\\t\\t\\t\\n\\t\\t\\t\\t\\t\\t\\t\\n\\t\\t\\t\\...</td>\n      <td>...</td>\n      <td>3</td>\n      <td>5.00</td>\n      <td>12</td>\n      <td>0</td>\n      <td>100 gram \\n for  250.00 USD</td>\n      <td>USD</td>\n      <td>100.0</td>\n      <td>gram</td>\n      <td>2.500</td>\n      <td>5</td>\n    </tr>\n    <tr>\n      <th>11</th>\n      <td>1727</td>\n      <td>1587811688-1296</td>\n      <td>http://paxromanadfudhte.onion/category/1?page=134</td>\n      <td>Speed / Amphetamin * 50 g *</td>\n      <td>Regeln zum Versand wÃ¤rend der CORONA-Kriese: ...</td>\n      <td>205.2</td>\n      <td>DE</td>\n      <td>DE</td>\n      <td>Views: 11\\nSold: 0</td>\n      <td>Escrow \\t\\t\\t\\t\\t\\t\\t\\n\\t\\t\\t\\t\\t\\t\\t\\n\\t\\t\\t\\...</td>\n      <td>...</td>\n      <td>5</td>\n      <td>5.00</td>\n      <td>11</td>\n      <td>0</td>\n      <td>50 gram \\n for  205.20 USD</td>\n      <td>USD</td>\n      <td>50.0</td>\n      <td>gram</td>\n      <td>4.104</td>\n      <td>5</td>\n    </tr>\n    <tr>\n      <th>16</th>\n      <td>1334</td>\n      <td>1587811830-1493</td>\n      <td>http://paxromanadfudhte.onion/category/1?page=114</td>\n      <td>Cloned Order 40pills sobutex 8mg pharmacy grades</td>\n      <td>Hi legends,\\n Great appreciation to everyone w...</td>\n      <td>310.0</td>\n      <td>USA</td>\n      <td>WW</td>\n      <td>Views: 12\\nSold: 0</td>\n      <td>Escrow \\t\\t\\t\\t\\t\\t\\t\\n\\t\\t\\t\\t\\t\\t\\t\\n\\t\\t\\t\\...</td>\n      <td>...</td>\n      <td>3</td>\n      <td>5.00</td>\n      <td>12</td>\n      <td>0</td>\n      <td>310.00 USD</td>\n      <td>USD</td>\n      <td>NaN</td>\n      <td>NaN</td>\n      <td>310.000</td>\n      <td>5</td>\n    </tr>\n  </tbody>\n</table>\n<p>5 rows × 24 columns</p>\n</div>"
     },
     "execution_count": 21,
     "metadata": {},
     "output_type": "execute_result"
    }
   ],
   "source": [
    "df_dupes = all_data.pivot_table(index=['unique_ref'], aggfunc='size').to_frame()\n",
    "\n",
    "unique_data = all_data.merge(df_dupes, on='unique_ref')\n",
    "unique_data[\"Days Run\"] = unique_data[0]\n",
    "unique_data = unique_data.drop([0], axis=1)\n",
    "unique_data = unique_data.drop_duplicates(subset=\"unique_ref\", keep='last')\n",
    "\n",
    "unique_data.head()"
   ],
   "metadata": {
    "collapsed": false,
    "pycharm": {
     "name": "#%%\n"
    }
   }
  },
  {
   "cell_type": "markdown",
   "source": [
    "Looking good!  Now, let's break these into drug types\n"
   ],
   "metadata": {
    "collapsed": false,
    "pycharm": {
     "name": "#%% md\n"
    }
   }
  },
  {
   "cell_type": "code",
   "execution_count": 22,
   "outputs": [],
   "source": [
    "from fuzzywuzzy import fuzz\n",
    "\n",
    "drug_dict = pd.read_csv(\"drugs.csv\",  encoding= \"ISO-8859-1\")\n",
    "drug_dict = drug_dict.rename(columns={\"Substances: Category & Name\": \"substance\", \"Examples of Commercial & Street Names\": \"names\"})\n",
    "\n",
    "#this function will return the highest value from the list and it's ratio of \"sameness\"\n",
    "def compare_to_list(description, list_to_compare):\n",
    "    accuracy_dict = {}\n",
    "    for comparator in list_to_compare:\n",
    "        for word in description.split():\n",
    "            ratio = fuzz.ratio(word.lower(), comparator.lower())\n",
    "            accuracy_dict.update({comparator : ratio})\n",
    "    biggest = max(accuracy_dict, key=accuracy_dict.get)\n",
    "    max_value = accuracy_dict[biggest]\n",
    "    return [biggest,max_value]\n",
    "\n",
    "#changes my column of drug names to a list divided by , and removes any spaces\n",
    "def make_a_list(column):\n",
    "    drug_list = []\n",
    "    for word in column.split(\",\"):\n",
    "        drug_list.append(word.strip())\n",
    "    return drug_list\n",
    "        \n",
    "drug_dict[\"examples\"] = drug_dict[\"examples\"].apply(make_a_list)"
   ],
   "metadata": {
    "collapsed": false,
    "pycharm": {
     "name": "#%%"
    }
   }
  },
  {
   "cell_type": "code",
   "execution_count": 23,
   "outputs": [
    {
     "data": {
      "text/plain": "           substance                                           examples\n0  ANABOLIC STEROIDS  [Anadrol, Oxandrin, Durabolin, Depo-Testostero...\n1                LSD  [Lysergic acid diethylamide: acid, blotter, cu...\n2          MESCALINE         [Buttons, cactus, mesc, peyote, MESCALINE]\n3          MUSHROOMS  [Magic mushrooms, purple passion, shrooms, lit...\n4           KETAMINE  [Ketalar SV cat Valium, K, Special K, vitamin ...",
      "text/html": "<div>\n<style scoped>\n    .dataframe tbody tr th:only-of-type {\n        vertical-align: middle;\n    }\n\n    .dataframe tbody tr th {\n        vertical-align: top;\n    }\n\n    .dataframe thead th {\n        text-align: right;\n    }\n</style>\n<table border=\"1\" class=\"dataframe\">\n  <thead>\n    <tr style=\"text-align: right;\">\n      <th></th>\n      <th>substance</th>\n      <th>examples</th>\n    </tr>\n  </thead>\n  <tbody>\n    <tr>\n      <th>0</th>\n      <td>ANABOLIC STEROIDS</td>\n      <td>[Anadrol, Oxandrin, Durabolin, Depo-Testostero...</td>\n    </tr>\n    <tr>\n      <th>1</th>\n      <td>LSD</td>\n      <td>[Lysergic acid diethylamide: acid, blotter, cu...</td>\n    </tr>\n    <tr>\n      <th>2</th>\n      <td>MESCALINE</td>\n      <td>[Buttons, cactus, mesc, peyote, MESCALINE]</td>\n    </tr>\n    <tr>\n      <th>3</th>\n      <td>MUSHROOMS</td>\n      <td>[Magic mushrooms, purple passion, shrooms, lit...</td>\n    </tr>\n    <tr>\n      <th>4</th>\n      <td>KETAMINE</td>\n      <td>[Ketalar SV cat Valium, K, Special K, vitamin ...</td>\n    </tr>\n  </tbody>\n</table>\n</div>"
     },
     "execution_count": 23,
     "metadata": {},
     "output_type": "execute_result"
    }
   ],
   "source": [
    "drug_dict.head()"
   ],
   "metadata": {
    "collapsed": false,
    "pycharm": {
     "name": "#%%\n"
    }
   }
  },
  {
   "cell_type": "code",
   "execution_count": 24,
   "outputs": [
    {
     "name": "stderr",
     "output_type": "stream",
     "text": [
      "[nltk_data] Downloading package punkt to\n",
      "[nltk_data]     C:\\Users\\varot\\AppData\\Roaming\\nltk_data...\n",
      "[nltk_data]   Package punkt is already up-to-date!\n"
     ]
    }
   ],
   "source": [
    "import nltk\n",
    "nltk.download('punkt')\n",
    "from nltk.tokenize import word_tokenize\n"
   ],
   "metadata": {
    "collapsed": false,
    "pycharm": {
     "name": "#%%\n"
    }
   }
  },
  {
   "cell_type": "code",
   "execution_count": 25,
   "outputs": [],
   "source": [
    "#give this a drug name, it will iterate through all the columns and return your highest match and confidence\n",
    "def pick_drug(name):\n",
    "    row_dict = {}\n",
    "    for index, row in drug_dict.iterrows():\n",
    "        dict_search = compare_to_list(name, row[\"examples\"])\n",
    "        row_dict.update({row[\"substance\"] : dict_search[1]})\n",
    "    biggest = max(row_dict, key=row_dict.get)\n",
    "    max_value = row_dict[biggest]\n",
    "    return [biggest,max_value]\n",
    "\n",
    "\n",
    "def row_extract(row):\n",
    "    #row_list = row.split(\" \")\n",
    "    row_list = word_tokenize(row)\n",
    "    row_dict = {}\n",
    "    for word in row_list:\n",
    "        [drug_name, word_score] = pick_drug(word)\n",
    "        word_to_update = word,drug_name\n",
    "        row_dict.update({word_to_update: word_score})\n",
    "    biggest = max(row_dict, key=row_dict.get)\n",
    "    max_value = row_dict[biggest]\n",
    "    substance_name=biggest[1]\n",
    "    identified_name=biggest[0]\n",
    "    return [substance_name, identified_name, max_value]"
   ],
   "metadata": {
    "collapsed": false,
    "pycharm": {
     "name": "#%%\n"
    }
   }
  },
  {
   "cell_type": "markdown",
   "source": [
    "We have now built functions to read through our given advert name, and extract believed drug name and confidence.  Let's create additional columns with those"
   ],
   "metadata": {
    "collapsed": false,
    "pycharm": {
     "name": "#%% md\n"
    }
   }
  },
  {
   "cell_type": "code",
   "execution_count": 26,
   "outputs": [],
   "source": [
    "for index, row in all_data.iterrows():\n",
    "    all_data.at[index, \"substance\"], all_data.at[index, \"extracted name\"], all_data.at[index, \"name confidence\"]  = row_extract(row[\"name\"])\n"
   ],
   "metadata": {
    "collapsed": false,
    "pycharm": {
     "name": "#%%\n"
    }
   }
  },
  {
   "cell_type": "code",
   "execution_count": 27,
   "outputs": [
    {
     "data": {
      "text/plain": "   index ï»¿web-scraper-order  \\\n0      0     1587452506-12609   \n1      1     1587452527-12696   \n2      2     1587452650-13126   \n3      3     1587452537-12728   \n4      4     1587452571-12836   \n\n                               web-scraper-start-url  \\\n0  http://paxromanadfudhte.onion/category/1?page=110   \n1  http://paxromanadfudhte.onion/category/1?page=101   \n2   http://paxromanadfudhte.onion/category/1?page=58   \n3   http://paxromanadfudhte.onion/category/1?page=98   \n4   http://paxromanadfudhte.onion/category/1?page=87   \n\n                                                name  \\\n0              Cloned BUY OXYCODONE POWDER(99% PURE)   \n1               Cloned BUY COCAINE POWDER (99% PURE)   \n2  99% Pure 300ug LSD,  220mg ECSTASY, of 84 % Pu...   \n3                        Speed / Amphetamin * 50 g *   \n4   Cloned Order 40pills sobutex 8mg pharmacy grades   \n\n                                         description   price from  to  \\\n0  This medication is used to help relieve modera...   20.00  USA  WW   \n1  Cocaine, also known as coke, is a strong stimu...   20.00  USA  WW   \n2  99% Pure 300ug LSD,  220mg ECSTASY, of 84 % Pu...  250.00  USA  WW   \n3  Regeln zum Versand wÃ¤rend der CORONA-Kriese: ...  206.34   DE  DE   \n4  Hi legends,\\n Great appreciation to everyone w...  310.00  USA  WW   \n\n                sold                                               link  ...  \\\n0  Views: 0\\nSold: 0  Escrow \\t\\t\\t\\t\\t\\t\\t\\n\\t\\t\\t\\t\\t\\t\\t\\n\\t\\t\\t\\...  ...   \n1  Views: 0\\nSold: 0  Escrow \\t\\t\\t\\t\\t\\t\\t\\n\\t\\t\\t\\t\\t\\t\\t\\n\\t\\t\\t\\...  ...   \n2  Views: 5\\nSold: 0  Escrow \\t\\t\\t\\t\\t\\t\\t\\n\\t\\t\\t\\t\\t\\t\\t\\n\\t\\t\\t\\...  ...   \n3  Views: 3\\nSold: 0  Escrow \\t\\t\\t\\t\\t\\t\\t\\n\\t\\t\\t\\t\\t\\t\\t\\n\\t\\t\\t\\...  ...   \n4  Views: 2\\nSold: 0  Escrow \\t\\t\\t\\t\\t\\t\\t\\n\\t\\t\\t\\t\\t\\t\\t\\n\\t\\t\\t\\...  ...   \n\n  Extracted views Extracted sold                 price listed  Currency  \\\n0               0              0                    20.00 USD       USD   \n1               0              0     1 gram \\n for  20.00 USD       USD   \n2               5              0  100 gram \\n for  250.00 USD       USD   \n3               3              0   50 gram \\n for  206.34 USD       USD   \n4               2              0                   310.00 USD       USD   \n\n  Volume Unit of Volume Price Per Unit             substance extracted name  \\\n0    NaN            NaN        20.0000  PRESCRIPTION OPIOIDS      OXYCODONE   \n1    1.0           gram        20.0000               COCAINE        COCAINE   \n2  100.0           gram         2.5000                   LSD            LSD   \n3   50.0           gram         4.1268           AMPHETAMINE          Speed   \n4    NaN            NaN       310.0000  PRESCRIPTION OPIOIDS        sobutex   \n\n  name confidence  \n0           100.0  \n1           100.0  \n2           100.0  \n3           100.0  \n4            86.0  \n\n[5 rows x 26 columns]",
      "text/html": "<div>\n<style scoped>\n    .dataframe tbody tr th:only-of-type {\n        vertical-align: middle;\n    }\n\n    .dataframe tbody tr th {\n        vertical-align: top;\n    }\n\n    .dataframe thead th {\n        text-align: right;\n    }\n</style>\n<table border=\"1\" class=\"dataframe\">\n  <thead>\n    <tr style=\"text-align: right;\">\n      <th></th>\n      <th>index</th>\n      <th>ï»¿web-scraper-order</th>\n      <th>web-scraper-start-url</th>\n      <th>name</th>\n      <th>description</th>\n      <th>price</th>\n      <th>from</th>\n      <th>to</th>\n      <th>sold</th>\n      <th>link</th>\n      <th>...</th>\n      <th>Extracted views</th>\n      <th>Extracted sold</th>\n      <th>price listed</th>\n      <th>Currency</th>\n      <th>Volume</th>\n      <th>Unit of Volume</th>\n      <th>Price Per Unit</th>\n      <th>substance</th>\n      <th>extracted name</th>\n      <th>name confidence</th>\n    </tr>\n  </thead>\n  <tbody>\n    <tr>\n      <th>0</th>\n      <td>0</td>\n      <td>1587452506-12609</td>\n      <td>http://paxromanadfudhte.onion/category/1?page=110</td>\n      <td>Cloned BUY OXYCODONE POWDER(99% PURE)</td>\n      <td>This medication is used to help relieve modera...</td>\n      <td>20.00</td>\n      <td>USA</td>\n      <td>WW</td>\n      <td>Views: 0\\nSold: 0</td>\n      <td>Escrow \\t\\t\\t\\t\\t\\t\\t\\n\\t\\t\\t\\t\\t\\t\\t\\n\\t\\t\\t\\...</td>\n      <td>...</td>\n      <td>0</td>\n      <td>0</td>\n      <td>20.00 USD</td>\n      <td>USD</td>\n      <td>NaN</td>\n      <td>NaN</td>\n      <td>20.0000</td>\n      <td>PRESCRIPTION OPIOIDS</td>\n      <td>OXYCODONE</td>\n      <td>100.0</td>\n    </tr>\n    <tr>\n      <th>1</th>\n      <td>1</td>\n      <td>1587452527-12696</td>\n      <td>http://paxromanadfudhte.onion/category/1?page=101</td>\n      <td>Cloned BUY COCAINE POWDER (99% PURE)</td>\n      <td>Cocaine, also known as coke, is a strong stimu...</td>\n      <td>20.00</td>\n      <td>USA</td>\n      <td>WW</td>\n      <td>Views: 0\\nSold: 0</td>\n      <td>Escrow \\t\\t\\t\\t\\t\\t\\t\\n\\t\\t\\t\\t\\t\\t\\t\\n\\t\\t\\t\\...</td>\n      <td>...</td>\n      <td>0</td>\n      <td>0</td>\n      <td>1 gram \\n for  20.00 USD</td>\n      <td>USD</td>\n      <td>1.0</td>\n      <td>gram</td>\n      <td>20.0000</td>\n      <td>COCAINE</td>\n      <td>COCAINE</td>\n      <td>100.0</td>\n    </tr>\n    <tr>\n      <th>2</th>\n      <td>2</td>\n      <td>1587452650-13126</td>\n      <td>http://paxromanadfudhte.onion/category/1?page=58</td>\n      <td>99% Pure 300ug LSD,  220mg ECSTASY, of 84 % Pu...</td>\n      <td>99% Pure 300ug LSD,  220mg ECSTASY, of 84 % Pu...</td>\n      <td>250.00</td>\n      <td>USA</td>\n      <td>WW</td>\n      <td>Views: 5\\nSold: 0</td>\n      <td>Escrow \\t\\t\\t\\t\\t\\t\\t\\n\\t\\t\\t\\t\\t\\t\\t\\n\\t\\t\\t\\...</td>\n      <td>...</td>\n      <td>5</td>\n      <td>0</td>\n      <td>100 gram \\n for  250.00 USD</td>\n      <td>USD</td>\n      <td>100.0</td>\n      <td>gram</td>\n      <td>2.5000</td>\n      <td>LSD</td>\n      <td>LSD</td>\n      <td>100.0</td>\n    </tr>\n    <tr>\n      <th>3</th>\n      <td>3</td>\n      <td>1587452537-12728</td>\n      <td>http://paxromanadfudhte.onion/category/1?page=98</td>\n      <td>Speed / Amphetamin * 50 g *</td>\n      <td>Regeln zum Versand wÃ¤rend der CORONA-Kriese: ...</td>\n      <td>206.34</td>\n      <td>DE</td>\n      <td>DE</td>\n      <td>Views: 3\\nSold: 0</td>\n      <td>Escrow \\t\\t\\t\\t\\t\\t\\t\\n\\t\\t\\t\\t\\t\\t\\t\\n\\t\\t\\t\\...</td>\n      <td>...</td>\n      <td>3</td>\n      <td>0</td>\n      <td>50 gram \\n for  206.34 USD</td>\n      <td>USD</td>\n      <td>50.0</td>\n      <td>gram</td>\n      <td>4.1268</td>\n      <td>AMPHETAMINE</td>\n      <td>Speed</td>\n      <td>100.0</td>\n    </tr>\n    <tr>\n      <th>4</th>\n      <td>4</td>\n      <td>1587452571-12836</td>\n      <td>http://paxromanadfudhte.onion/category/1?page=87</td>\n      <td>Cloned Order 40pills sobutex 8mg pharmacy grades</td>\n      <td>Hi legends,\\n Great appreciation to everyone w...</td>\n      <td>310.00</td>\n      <td>USA</td>\n      <td>WW</td>\n      <td>Views: 2\\nSold: 0</td>\n      <td>Escrow \\t\\t\\t\\t\\t\\t\\t\\n\\t\\t\\t\\t\\t\\t\\t\\n\\t\\t\\t\\...</td>\n      <td>...</td>\n      <td>2</td>\n      <td>0</td>\n      <td>310.00 USD</td>\n      <td>USD</td>\n      <td>NaN</td>\n      <td>NaN</td>\n      <td>310.0000</td>\n      <td>PRESCRIPTION OPIOIDS</td>\n      <td>sobutex</td>\n      <td>86.0</td>\n    </tr>\n  </tbody>\n</table>\n<p>5 rows × 26 columns</p>\n</div>"
     },
     "execution_count": 27,
     "metadata": {},
     "output_type": "execute_result"
    }
   ],
   "source": [
    "all_data.head()"
   ],
   "metadata": {
    "collapsed": false,
    "pycharm": {
     "name": "#%%\n"
    }
   }
  },
  {
   "cell_type": "markdown",
   "source": [
    "let's try and extract any weight values from the title, as well as any number of pills"
   ],
   "metadata": {
    "collapsed": false,
    "pycharm": {
     "name": "#%% md\n"
    }
   }
  },
  {
   "cell_type": "code",
   "execution_count": 28,
   "outputs": [
    {
     "name": "stderr",
     "output_type": "stream",
     "text": [
      "D:\\Users\\varot\\anaconda3\\lib\\site-packages\\pandas\\core\\strings.py:1954: UserWarning: This pattern has match groups. To actually get the groups, use str.extract.\n",
      "  return func(self, *args, **kwargs)\n"
     ]
    }
   ],
   "source": [
    "import numpy as np\n",
    "pills = \"([0-9]+) ?([Xx]|[Pp](?:i|I))\"\n",
    "clone_pattern = \"(Clone|clone|CLONE)\"\n",
    "all_data[\"pill quantity\"] = np.NaN\n",
    "all_data[\"pill quantity\"] = all_data[\"name\"].str.extract(pills)\n",
    "all_data[\"price per pill\"] = all_data[\"price\"].astype(float) / all_data[\"pill quantity\"].astype(float)\n",
    "\n",
    "all_data[\"cloned\"] = all_data[\"name\"].str.contains(clone_pattern)"
   ],
   "metadata": {
    "collapsed": false,
    "pycharm": {
     "name": "#%%\n"
    }
   }
  },
  {
   "cell_type": "code",
   "execution_count": 29,
   "outputs": [
    {
     "name": "stderr",
     "output_type": "stream",
     "text": [
      "D:\\Users\\varot\\anaconda3\\lib\\site-packages\\ipykernel_launcher.py:12: SettingWithCopyWarning: \n",
      "A value is trying to be set on a copy of a slice from a DataFrame.\n",
      "Try using .loc[row_indexer,col_indexer] = value instead\n",
      "\n",
      "See the caveats in the documentation: https://pandas.pydata.org/pandas-docs/stable/user_guide/indexing.html#returning-a-view-versus-a-copy\n",
      "  if sys.path[0] == '':\n",
      "D:\\Users\\varot\\anaconda3\\lib\\site-packages\\ipykernel_launcher.py:13: SettingWithCopyWarning: \n",
      "A value is trying to be set on a copy of a slice from a DataFrame.\n",
      "Try using .loc[row_indexer,col_indexer] = value instead\n",
      "\n",
      "See the caveats in the documentation: https://pandas.pydata.org/pandas-docs/stable/user_guide/indexing.html#returning-a-view-versus-a-copy\n",
      "  del sys.path[0]\n"
     ]
    }
   ],
   "source": [
    "pattern  = \"([0-9]+ ?(?:gram|mg|Gram|GRAM|MG|G|g|gram|ML))\"\n",
    "\n",
    "gram_values = all_data[\"name\"].str.contains(pattern)\n",
    "all_data[\"extracted weight\"] = np.nan\n",
    "\n",
    "all_data[\"extracted weight\"] = all_data[\"name\"].str.extract(pattern)\n",
    "\n",
    "numeric_pattern = \"([0-9]+)\"\n",
    "is_word = \"([A-z]+)\"\n",
    "extracted_weight_check = all_data[\"extracted weight\"].notna()\n",
    "volume_na = all_data[\"Volume\"].isna()\n",
    "all_data[volume_na & extracted_weight_check][\"Unit of Volume\"] = all_data[\"extracted weight\"].str.extract(is_word)\n",
    "all_data[volume_na][\"Volume\"] = all_data[\"extracted weight\"].str.extract(numeric_pattern)"
   ],
   "metadata": {
    "collapsed": false,
    "pycharm": {
     "name": "#%%\n"
    }
   }
  },
  {
   "cell_type": "code",
   "execution_count": 30,
   "outputs": [
    {
     "name": "stderr",
     "output_type": "stream",
     "text": [
      "D:\\Users\\varot\\anaconda3\\lib\\site-packages\\ipykernel_launcher.py:1: SettingWithCopyWarning: \n",
      "A value is trying to be set on a copy of a slice from a DataFrame.\n",
      "Try using .loc[row_indexer,col_indexer] = value instead\n",
      "\n",
      "See the caveats in the documentation: https://pandas.pydata.org/pandas-docs/stable/user_guide/indexing.html#returning-a-view-versus-a-copy\n",
      "  \"\"\"Entry point for launching an IPython kernel.\n"
     ]
    }
   ],
   "source": [
    "all_data[volume_na & extracted_weight_check][\"Unit of Volume\"] = all_data[\"extracted weight\"].str.extract(is_word)"
   ],
   "metadata": {
    "collapsed": false,
    "pycharm": {
     "name": "#%%\n"
    }
   }
  },
  {
   "cell_type": "code",
   "execution_count": 31,
   "outputs": [],
   "source": [
    "unit_volume_na = all_data[\"Unit of Volume\"].isna()\n",
    "all_data[\"extracted weight unit\"] = all_data[\"extracted weight\"].str.extract(is_word)\n",
    "all_data[\"extracted weight number\"] = all_data[\"extracted weight\"].str.extract(numeric_pattern)\n"
   ],
   "metadata": {
    "collapsed": false,
    "pycharm": {
     "name": "#%%\n"
    }
   }
  },
  {
   "cell_type": "code",
   "execution_count": 32,
   "outputs": [],
   "source": [
    "all_data.loc[unit_volume_na, \"Unit of Volume\"] = all_data[\"extracted weight unit\"]\n",
    "all_data.loc[volume_na, \"Volume\"] = all_data[\"extracted weight number\"]"
   ],
   "metadata": {
    "collapsed": false,
    "pycharm": {
     "name": "#%%\n"
    }
   }
  },
  {
   "cell_type": "markdown",
   "source": [
    "now, we'll add a \"weight in gram\" column that will convert all the various units for comparison"
   ],
   "metadata": {
    "collapsed": false,
    "pycharm": {
     "name": "#%% md\n"
    }
   }
  },
  {
   "cell_type": "code",
   "execution_count": 33,
   "outputs": [
    {
     "data": {
      "text/plain": "(6193, 34)"
     },
     "execution_count": 33,
     "metadata": {},
     "output_type": "execute_result"
    }
   ],
   "source": [
    "import numpy as np\n",
    "all_data[\"weight in g\"] = np.NaN\n",
    "\n",
    "grams = [\"g\",\"gram\",\"grams\", \"ML\", \"milliliter(s)\",\"G\",\"GRAM\",\"Gram\"]\n",
    "in_grams = all_data[\"Unit of Volume\"].isin(grams)\n",
    "all_data.loc[ in_grams, \"weight in g\"] = all_data[\"Volume\"]\n",
    "\n",
    "milligrams = [\"mg\", \"MG\"]\n",
    "in_mgrams = all_data[\"Unit of Volume\"].isin(milligrams)\n",
    "all_data.loc[ in_mgrams, \"weight in g\"] = all_data[\"Volume\"].astype(float)/1000\n",
    "\n",
    "\n",
    "kilos = [\"kg\", \"KG\",\"kilo(s)\", \"liter(s)\"]\n",
    "in_kg = all_data[\"Unit of Volume\"].isin(kilos)\n",
    "all_data.loc[ in_kg, \"weight in g\"] = all_data[\"Volume\"].astype(float)*1000\n",
    "\n",
    "cl = [\"centilitre(s)\"]\n",
    "in_cl = all_data[\"Unit of Volume\"].isin(cl)\n",
    "all_data.loc[ in_cl, \"weight in g\"] = all_data[\"Volume\"].astype(float)*10\n",
    "\n",
    "ounce = [\"ounce(s)\"]\n",
    "in_ounce = all_data[\"Unit of Volume\"].isin(ounce)\n",
    "all_data.loc[ in_ounce, \"weight in g\"] = all_data[\"Volume\"].astype(float)*28.34\n",
    "\n",
    "all_data[\"price per gram\"] = all_data[\"price\"].astype(float) / all_data[\"weight in g\"].astype(float)\n",
    "\n",
    "has_ppg = all_data[\"price per gram\"].notna()\n",
    "confident = all_data[\"name confidence\"] > 85\n",
    "cleaned_data = all_data[confident & has_ppg]\n",
    "all_data.shape\n",
    "cleaned_data.shape"
   ],
   "metadata": {
    "collapsed": false,
    "pycharm": {
     "name": "#%%\n"
    }
   }
  },
  {
   "cell_type": "code",
   "execution_count": 34,
   "outputs": [],
   "source": [
    "\n",
    "all_data.to_csv(\"all_data.csv\")\n",
    "cleaned_data.to_csv(\"cleaned_data.csv\")"
   ],
   "metadata": {
    "collapsed": false,
    "pycharm": {
     "name": "#%%\n"
    }
   }
  }
 ],
 "metadata": {
  "kernelspec": {
   "display_name": "Python 3",
   "language": "python",
   "name": "python3"
  },
  "language_info": {
   "codemirror_mode": {
    "name": "ipython",
    "version": 2
   },
   "file_extension": ".py",
   "mimetype": "text/x-python",
   "name": "python",
   "nbconvert_exporter": "python",
   "pygments_lexer": "ipython2",
   "version": "2.7.6"
  }
 },
 "nbformat": 4,
 "nbformat_minor": 0
}